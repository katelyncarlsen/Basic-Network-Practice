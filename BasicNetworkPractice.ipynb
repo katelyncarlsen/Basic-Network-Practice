{
 "cells": [
  {
   "cell_type": "code",
   "execution_count": 116,
   "id": "a64bd04c-3ef3-4333-b6c5-9d2dd396d9c2",
   "metadata": {},
   "outputs": [],
   "source": [
    "import torch\n",
    "import torch.nn as nn\n",
    "import torch.nn.functional as F"
   ]
  },
  {
   "cell_type": "code",
   "execution_count": 117,
   "id": "4abd83da-99d2-479c-af8f-35fb6d2aa3ee",
   "metadata": {},
   "outputs": [],
   "source": [
    "# Create a Model Class that inherits nn.Module"
   ]
  },
  {
   "cell_type": "code",
   "execution_count": 118,
   "id": "006e5b76-5ac8-4410-a8d6-74b164a3a1d4",
   "metadata": {},
   "outputs": [],
   "source": [
    "class Model(nn.Module):\n",
    "    def __init__(self, in_features=4, h1=8, h2=8, out_features=3):  #definition of network, 2 layers; first layer has 8 neurons and second has 9\n",
    "        super().__init__() #always do in OOP\n",
    "        self.fc1 = nn.Linear(in_features, h1)\n",
    "        self.fc2 = nn.Linear(h1, h2)\n",
    "        self.out = nn.Linear(h2, out_features)\n",
    "\n",
    "    def forward(self, x):\n",
    "        x = F.relu(self.fc1(x)) #rectified linear unit function (ReLU)\n",
    "        x = F.relu(self.fc2(x))\n",
    "        x = self.out(x)\n",
    "        return x"
   ]
  },
  {
   "cell_type": "code",
   "execution_count": 119,
   "id": "453524f0-60c8-4967-82af-6da69eee7d6e",
   "metadata": {},
   "outputs": [],
   "source": [
    "torch.manual_seed(41) #picking a random seed\n",
    "model = Model()"
   ]
  },
  {
   "cell_type": "code",
   "execution_count": 120,
   "id": "a3d0d308-1d7b-40a5-968d-36bcc5f9dada",
   "metadata": {},
   "outputs": [],
   "source": [
    "import pandas as pd\n",
    "import matplotlib.pyplot as plt\n",
    "%matplotlib inline"
   ]
  },
  {
   "cell_type": "code",
   "execution_count": 121,
   "id": "3c2dad54-c5a4-4278-80a3-8a4ae778f20b",
   "metadata": {},
   "outputs": [
    {
     "data": {
      "text/html": [
       "<div>\n",
       "<style scoped>\n",
       "    .dataframe tbody tr th:only-of-type {\n",
       "        vertical-align: middle;\n",
       "    }\n",
       "\n",
       "    .dataframe tbody tr th {\n",
       "        vertical-align: top;\n",
       "    }\n",
       "\n",
       "    .dataframe thead th {\n",
       "        text-align: right;\n",
       "    }\n",
       "</style>\n",
       "<table border=\"1\" class=\"dataframe\">\n",
       "  <thead>\n",
       "    <tr style=\"text-align: right;\">\n",
       "      <th></th>\n",
       "      <th>sepal_length</th>\n",
       "      <th>sepal_width</th>\n",
       "      <th>petal_length</th>\n",
       "      <th>petal_width</th>\n",
       "      <th>species</th>\n",
       "    </tr>\n",
       "  </thead>\n",
       "  <tbody>\n",
       "    <tr>\n",
       "      <th>0</th>\n",
       "      <td>5.1</td>\n",
       "      <td>3.5</td>\n",
       "      <td>1.4</td>\n",
       "      <td>0.2</td>\n",
       "      <td>setosa</td>\n",
       "    </tr>\n",
       "    <tr>\n",
       "      <th>1</th>\n",
       "      <td>4.9</td>\n",
       "      <td>3.0</td>\n",
       "      <td>1.4</td>\n",
       "      <td>0.2</td>\n",
       "      <td>setosa</td>\n",
       "    </tr>\n",
       "    <tr>\n",
       "      <th>2</th>\n",
       "      <td>4.7</td>\n",
       "      <td>3.2</td>\n",
       "      <td>1.3</td>\n",
       "      <td>0.2</td>\n",
       "      <td>setosa</td>\n",
       "    </tr>\n",
       "    <tr>\n",
       "      <th>3</th>\n",
       "      <td>4.6</td>\n",
       "      <td>3.1</td>\n",
       "      <td>1.5</td>\n",
       "      <td>0.2</td>\n",
       "      <td>setosa</td>\n",
       "    </tr>\n",
       "    <tr>\n",
       "      <th>4</th>\n",
       "      <td>5.0</td>\n",
       "      <td>3.6</td>\n",
       "      <td>1.4</td>\n",
       "      <td>0.2</td>\n",
       "      <td>setosa</td>\n",
       "    </tr>\n",
       "    <tr>\n",
       "      <th>...</th>\n",
       "      <td>...</td>\n",
       "      <td>...</td>\n",
       "      <td>...</td>\n",
       "      <td>...</td>\n",
       "      <td>...</td>\n",
       "    </tr>\n",
       "    <tr>\n",
       "      <th>145</th>\n",
       "      <td>6.7</td>\n",
       "      <td>3.0</td>\n",
       "      <td>5.2</td>\n",
       "      <td>2.3</td>\n",
       "      <td>virginica</td>\n",
       "    </tr>\n",
       "    <tr>\n",
       "      <th>146</th>\n",
       "      <td>6.3</td>\n",
       "      <td>2.5</td>\n",
       "      <td>5.0</td>\n",
       "      <td>1.9</td>\n",
       "      <td>virginica</td>\n",
       "    </tr>\n",
       "    <tr>\n",
       "      <th>147</th>\n",
       "      <td>6.5</td>\n",
       "      <td>3.0</td>\n",
       "      <td>5.2</td>\n",
       "      <td>2.0</td>\n",
       "      <td>virginica</td>\n",
       "    </tr>\n",
       "    <tr>\n",
       "      <th>148</th>\n",
       "      <td>6.2</td>\n",
       "      <td>3.4</td>\n",
       "      <td>5.4</td>\n",
       "      <td>2.3</td>\n",
       "      <td>virginica</td>\n",
       "    </tr>\n",
       "    <tr>\n",
       "      <th>149</th>\n",
       "      <td>5.9</td>\n",
       "      <td>3.0</td>\n",
       "      <td>5.1</td>\n",
       "      <td>1.8</td>\n",
       "      <td>virginica</td>\n",
       "    </tr>\n",
       "  </tbody>\n",
       "</table>\n",
       "<p>150 rows × 5 columns</p>\n",
       "</div>"
      ],
      "text/plain": [
       "     sepal_length  sepal_width  petal_length  petal_width    species\n",
       "0             5.1          3.5           1.4          0.2     setosa\n",
       "1             4.9          3.0           1.4          0.2     setosa\n",
       "2             4.7          3.2           1.3          0.2     setosa\n",
       "3             4.6          3.1           1.5          0.2     setosa\n",
       "4             5.0          3.6           1.4          0.2     setosa\n",
       "..            ...          ...           ...          ...        ...\n",
       "145           6.7          3.0           5.2          2.3  virginica\n",
       "146           6.3          2.5           5.0          1.9  virginica\n",
       "147           6.5          3.0           5.2          2.0  virginica\n",
       "148           6.2          3.4           5.4          2.3  virginica\n",
       "149           5.9          3.0           5.1          1.8  virginica\n",
       "\n",
       "[150 rows x 5 columns]"
      ]
     },
     "execution_count": 121,
     "metadata": {},
     "output_type": "execute_result"
    }
   ],
   "source": [
    "my_df=pd.read_csv(\"iris.csv\")\n",
    "my_df"
   ]
  },
  {
   "cell_type": "code",
   "execution_count": 122,
   "id": "3c1d03f9-99e7-41d9-8156-b63de70ddb76",
   "metadata": {},
   "outputs": [
    {
     "name": "stderr",
     "output_type": "stream",
     "text": [
      "C:\\Users\\carls\\AppData\\Local\\Temp\\ipykernel_27232\\1120986331.py:4: FutureWarning: Downcasting behavior in `replace` is deprecated and will be removed in a future version. To retain the old behavior, explicitly call `result.infer_objects(copy=False)`. To opt-in to the future behavior, set `pd.set_option('future.no_silent_downcasting', True)`\n",
      "  my_df['species'] = my_df['species'].replace(\"virginica\", 2)\n"
     ]
    }
   ],
   "source": [
    "#changing last column from string to num\n",
    "my_df['species'] = my_df['species'].replace(\"setosa\", 0)\n",
    "my_df['species'] = my_df['species'].replace(\"versicolor\", 1)\n",
    "my_df['species'] = my_df['species'].replace(\"virginica\", 2)"
   ]
  },
  {
   "cell_type": "code",
   "execution_count": 123,
   "id": "071cd74a-0400-4168-b06c-0dd2ebb71d58",
   "metadata": {},
   "outputs": [
    {
     "data": {
      "text/html": [
       "<div>\n",
       "<style scoped>\n",
       "    .dataframe tbody tr th:only-of-type {\n",
       "        vertical-align: middle;\n",
       "    }\n",
       "\n",
       "    .dataframe tbody tr th {\n",
       "        vertical-align: top;\n",
       "    }\n",
       "\n",
       "    .dataframe thead th {\n",
       "        text-align: right;\n",
       "    }\n",
       "</style>\n",
       "<table border=\"1\" class=\"dataframe\">\n",
       "  <thead>\n",
       "    <tr style=\"text-align: right;\">\n",
       "      <th></th>\n",
       "      <th>sepal_length</th>\n",
       "      <th>sepal_width</th>\n",
       "      <th>petal_length</th>\n",
       "      <th>petal_width</th>\n",
       "      <th>species</th>\n",
       "    </tr>\n",
       "  </thead>\n",
       "  <tbody>\n",
       "    <tr>\n",
       "      <th>0</th>\n",
       "      <td>5.1</td>\n",
       "      <td>3.5</td>\n",
       "      <td>1.4</td>\n",
       "      <td>0.2</td>\n",
       "      <td>0</td>\n",
       "    </tr>\n",
       "    <tr>\n",
       "      <th>1</th>\n",
       "      <td>4.9</td>\n",
       "      <td>3.0</td>\n",
       "      <td>1.4</td>\n",
       "      <td>0.2</td>\n",
       "      <td>0</td>\n",
       "    </tr>\n",
       "    <tr>\n",
       "      <th>2</th>\n",
       "      <td>4.7</td>\n",
       "      <td>3.2</td>\n",
       "      <td>1.3</td>\n",
       "      <td>0.2</td>\n",
       "      <td>0</td>\n",
       "    </tr>\n",
       "    <tr>\n",
       "      <th>3</th>\n",
       "      <td>4.6</td>\n",
       "      <td>3.1</td>\n",
       "      <td>1.5</td>\n",
       "      <td>0.2</td>\n",
       "      <td>0</td>\n",
       "    </tr>\n",
       "    <tr>\n",
       "      <th>4</th>\n",
       "      <td>5.0</td>\n",
       "      <td>3.6</td>\n",
       "      <td>1.4</td>\n",
       "      <td>0.2</td>\n",
       "      <td>0</td>\n",
       "    </tr>\n",
       "    <tr>\n",
       "      <th>...</th>\n",
       "      <td>...</td>\n",
       "      <td>...</td>\n",
       "      <td>...</td>\n",
       "      <td>...</td>\n",
       "      <td>...</td>\n",
       "    </tr>\n",
       "    <tr>\n",
       "      <th>145</th>\n",
       "      <td>6.7</td>\n",
       "      <td>3.0</td>\n",
       "      <td>5.2</td>\n",
       "      <td>2.3</td>\n",
       "      <td>2</td>\n",
       "    </tr>\n",
       "    <tr>\n",
       "      <th>146</th>\n",
       "      <td>6.3</td>\n",
       "      <td>2.5</td>\n",
       "      <td>5.0</td>\n",
       "      <td>1.9</td>\n",
       "      <td>2</td>\n",
       "    </tr>\n",
       "    <tr>\n",
       "      <th>147</th>\n",
       "      <td>6.5</td>\n",
       "      <td>3.0</td>\n",
       "      <td>5.2</td>\n",
       "      <td>2.0</td>\n",
       "      <td>2</td>\n",
       "    </tr>\n",
       "    <tr>\n",
       "      <th>148</th>\n",
       "      <td>6.2</td>\n",
       "      <td>3.4</td>\n",
       "      <td>5.4</td>\n",
       "      <td>2.3</td>\n",
       "      <td>2</td>\n",
       "    </tr>\n",
       "    <tr>\n",
       "      <th>149</th>\n",
       "      <td>5.9</td>\n",
       "      <td>3.0</td>\n",
       "      <td>5.1</td>\n",
       "      <td>1.8</td>\n",
       "      <td>2</td>\n",
       "    </tr>\n",
       "  </tbody>\n",
       "</table>\n",
       "<p>150 rows × 5 columns</p>\n",
       "</div>"
      ],
      "text/plain": [
       "     sepal_length  sepal_width  petal_length  petal_width  species\n",
       "0             5.1          3.5           1.4          0.2        0\n",
       "1             4.9          3.0           1.4          0.2        0\n",
       "2             4.7          3.2           1.3          0.2        0\n",
       "3             4.6          3.1           1.5          0.2        0\n",
       "4             5.0          3.6           1.4          0.2        0\n",
       "..            ...          ...           ...          ...      ...\n",
       "145           6.7          3.0           5.2          2.3        2\n",
       "146           6.3          2.5           5.0          1.9        2\n",
       "147           6.5          3.0           5.2          2.0        2\n",
       "148           6.2          3.4           5.4          2.3        2\n",
       "149           5.9          3.0           5.1          1.8        2\n",
       "\n",
       "[150 rows x 5 columns]"
      ]
     },
     "execution_count": 123,
     "metadata": {},
     "output_type": "execute_result"
    }
   ],
   "source": [
    "my_df"
   ]
  },
  {
   "cell_type": "code",
   "execution_count": 124,
   "id": "f9098178-0b9d-484d-84ca-09b6375bfda7",
   "metadata": {},
   "outputs": [],
   "source": [
    "#train/test split\n",
    "X = my_df.drop('species', axis=1)\n",
    "y = my_df['species']\n",
    "\n",
    "X = X.values\n",
    "y = y.values"
   ]
  },
  {
   "cell_type": "code",
   "execution_count": 125,
   "id": "41f88fa0-ce49-4a71-a151-7534fcc92a91",
   "metadata": {},
   "outputs": [],
   "source": [
    "from sklearn.model_selection import train_test_split"
   ]
  },
  {
   "cell_type": "code",
   "execution_count": 126,
   "id": "4c800f46-bb1f-4854-a97e-30dc416f270d",
   "metadata": {},
   "outputs": [],
   "source": [
    "X_train, X_test, y_train, y_test = train_test_split(X, y, test_size=0.20, random_state=41)"
   ]
  },
  {
   "cell_type": "code",
   "execution_count": 127,
   "id": "6c056d9b-711d-44d1-8dfa-6973f9b9c765",
   "metadata": {},
   "outputs": [],
   "source": [
    "X_train = torch.FloatTensor(X_train)\n",
    "X_test = torch.FloatTensor(X_test)"
   ]
  },
  {
   "cell_type": "code",
   "execution_count": 128,
   "id": "6973cc29-6e7a-4878-a4c7-ff58d3837a44",
   "metadata": {},
   "outputs": [],
   "source": [
    "y_train = torch.LongTensor(y_train)\n",
    "y_test = torch.LongTensor(y_test)"
   ]
  },
  {
   "cell_type": "code",
   "execution_count": 129,
   "id": "f5f9f71f-ad76-4ded-9e95-eec16bd04025",
   "metadata": {},
   "outputs": [],
   "source": [
    "criterion = nn.CrossEntropyLoss()\n",
    "optimizer = torch.optim.Adam(model.parameters(), lr=0.01)"
   ]
  },
  {
   "cell_type": "code",
   "execution_count": 130,
   "id": "d179003b-8b2d-4ac7-9d41-38e95b7e7b75",
   "metadata": {},
   "outputs": [
    {
     "name": "stdout",
     "output_type": "stream",
     "text": [
      "Epoch: 0 and loss: 1.1318050622940063\n",
      "Epoch: 10 and loss: 0.9658581614494324\n",
      "Epoch: 20 and loss: 0.67915278673172\n",
      "Epoch: 30 and loss: 0.40087205171585083\n",
      "Epoch: 40 and loss: 0.22570067644119263\n",
      "Epoch: 50 and loss: 0.12255845218896866\n",
      "Epoch: 60 and loss: 0.07509137690067291\n",
      "Epoch: 70 and loss: 0.05467578023672104\n",
      "Epoch: 80 and loss: 0.04448389261960983\n",
      "Epoch: 90 and loss: 0.03846167400479317\n"
     ]
    }
   ],
   "source": [
    "epochs = 100\n",
    "losses = []\n",
    "for i in range(epochs):\n",
    "    y_pred = model.forward(X_train) \n",
    "    loss = criterion(y_pred, y_train) #predicted value vs actual value\n",
    "    losses.append(loss.detach().numpy())\n",
    "\n",
    "    if i % 10 == 0:\n",
    "        print(f'Epoch: {i} and loss: {loss}')\n",
    "\n",
    "    optimizer.zero_grad()\n",
    "    loss.backward()\n",
    "    optimizer.step()"
   ]
  },
  {
   "cell_type": "code",
   "execution_count": 131,
   "id": "f7380fe9-0553-407b-bc63-03adb6343a52",
   "metadata": {},
   "outputs": [
    {
     "data": {
      "text/plain": [
       "Text(0.5, 0, 'Epoch')"
      ]
     },
     "execution_count": 131,
     "metadata": {},
     "output_type": "execute_result"
    },
    {
     "data": {
      "image/png": "[encoded data removed]",
      "text/plain": [
       "<Figure size 640x480 with 1 Axes>"
      ]
     },
     "metadata": {},
     "output_type": "display_data"
    }
   ],
   "source": [
    "plt.plot(range(epochs), losses)\n",
    "plt.ylabel(\"Loss/error\")\n",
    "plt.xlabel(\"Epoch\")"
   ]
  },
  {
   "cell_type": "code",
   "execution_count": 132,
   "id": "0931984b-fff9-4618-b9ec-6892c276c528",
   "metadata": {},
   "outputs": [],
   "source": [
    "with torch.no_grad(): #turns off backprop\n",
    "    y_eval = model.forward(X_test)\n",
    "    loss = criterion(y_eval, y_test) #find loss vs actual"
   ]
  },
  {
   "cell_type": "code",
   "execution_count": 133,
   "id": "43a1d093-f92f-43f9-bf2f-6d92b876c333",
   "metadata": {},
   "outputs": [
    {
     "data": {
      "text/plain": [
       "tensor(0.1458)"
      ]
     },
     "execution_count": 133,
     "metadata": {},
     "output_type": "execute_result"
    }
   ],
   "source": [
    "loss"
   ]
  },
  {
   "cell_type": "code",
   "execution_count": 140,
   "id": "8a8e8eca-463c-48bd-b409-f858b60baaa5",
   "metadata": {},
   "outputs": [
    {
     "name": "stdout",
     "output_type": "stream",
     "text": [
      "1.) tensor([-7.7132,  1.5807,  4.8588]) \t 2 \t 2\n",
      "2.) tensor([-10.2249,   0.5155,   8.7638]) \t 2 \t 2\n",
      "3.) tensor([-10.7185,   1.1882,   8.2269]) \t 2 \t 2\n",
      "4.) tensor([-4.4690,  3.5339, -1.1210]) \t 1 \t 1\n",
      "5.) tensor([-9.0873,  1.4669,  6.2793]) \t 2 \t 2\n",
      "6.) tensor([-2.2770,  3.7022, -4.1140]) \t 1 \t 1\n",
      "7.) tensor([-7.0673,  2.2028,  3.2917]) \t 2 \t 2\n",
      "8.) tensor([-4.2226,  3.6468, -1.5420]) \t 1 \t 1\n",
      "9.) tensor([-8.0634,  1.8251,  4.7820]) \t 2 \t 2\n",
      "10.) tensor([-10.8515,   0.5058,   9.3629]) \t 2 \t 2\n",
      "11.) tensor([-6.8611,  2.2126,  3.0811]) \t 2 \t 2\n",
      "12.) tensor([  9.4301,   3.2669, -18.8494]) \t 0 \t 0\n",
      "13.) tensor([  8.5966,   2.9338, -17.1305]) \t 0 \t 0\n",
      "14.) tensor([-1.0571,  3.1664, -4.7063]) \t 1 \t 1\n",
      "15.) tensor([  8.0257,   3.2469, -16.7651]) \t 0 \t 0\n",
      "16.) tensor([-6.7032,  2.4148,  2.6586]) \t 2 \t 2\n",
      "17.) tensor([  8.4607,   3.0915, -17.1118]) \t 0 \t 0\n",
      "18.) tensor([-7.5983,  1.7014,  4.5610]) \t 1 \t 2\n",
      "19.) tensor([  9.0443,   3.1470, -18.0944]) \t 0 \t 0\n",
      "20.) tensor([  7.7209,   2.9005, -15.7171]) \t 0 \t 0\n",
      "21.) tensor([-1.6889,  3.3903, -4.2968]) \t 1 \t 1\n",
      "22.) tensor([-10.0090,   1.0498,   7.7576]) \t 2 \t 2\n",
      "23.) tensor([  8.2616,   3.2254, -17.0361]) \t 0 \t 0\n",
      "24.) tensor([  9.2014,   3.0883, -18.2702]) \t 0 \t 0\n",
      "25.) tensor([-1.3313,  3.4926, -4.9621]) \t 1 \t 1\n",
      "26.) tensor([-2.4267,  3.5929, -3.7083]) \t 1 \t 1\n",
      "27.) tensor([-4.7162,  3.5702, -0.9584]) \t 1 \t 1\n",
      "28.) tensor([-2.2748,  3.5415, -3.8113]) \t 1 \t 1\n",
      "29.) tensor([  9.4417,   3.2218, -18.8120]) \t 0 \t 0\n",
      "30.) tensor([-5.0048,  3.2264, -0.1543]) \t 1 \t 1\n",
      "Correct: 29\n"
     ]
    }
   ],
   "source": [
    "correct = 0\n",
    "with torch.no_grad():\n",
    "    for i, data in enumerate (X_test):\n",
    "        y_val = model.forward(data)\n",
    "        \n",
    "        #number in 2nd column from right tells us which flower the model thinks it is (0, 1, 2 are defined above)\n",
    "        #rightmost column tells us actual value\n",
    "        print(f'{i+1}.) {str(y_val)} \\t {y_test[i]} \\t {y_val.argmax().item()}')\n",
    "\n",
    "\n",
    "        if y_val.argmax().item() == y_test[i]:\n",
    "            correct += 1\n",
    "\n",
    "print(f'Correct: {correct}') # 30 points in total)"
   ]
  },
  {
   "cell_type": "code",
   "execution_count": 142,
   "id": "15926215-8cc9-4128-9f29-e01d4dc76bd8",
   "metadata": {},
   "outputs": [],
   "source": [
    "torch.save(model.state_dict(), 'BasicNetworkPractice.pt')"
   ]
  },
  {
   "cell_type": "code",
   "execution_count": null,
   "id": "586f4430-5c12-4579-af72-5f728eb7a816",
   "metadata": {},
   "outputs": [],
   "source": []
  }
 ],
 "metadata": {
  "kernelspec": {
   "display_name": "Python 3 (ipykernel)",
   "language": "python",
   "name": "python3"
  },
  "language_info": {
   "codemirror_mode": {
    "name": "ipython",
    "version": 3
   },
   "file_extension": ".py",
   "mimetype": "text/x-python",
   "name": "python",
   "nbconvert_exporter": "python",
   "pygments_lexer": "ipython3",
   "version": "3.13.7"
  }
 },
 "nbformat": 4,
 "nbformat_minor": 5
}
